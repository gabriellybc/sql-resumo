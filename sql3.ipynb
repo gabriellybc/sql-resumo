{
 "cells": [
  {
   "cell_type": "markdown",
   "metadata": {},
   "source": [
    "# SQL III"
   ]
  },
  {
   "cell_type": "markdown",
   "metadata": {},
   "source": [
    "## Inserindo novos dados"
   ]
  },
  {
   "cell_type": "markdown",
   "metadata": {},
   "source": [
    "Inserir instrução com valores para todas as colunas"
   ]
  },
  {
   "cell_type": "code",
   "execution_count": null,
   "metadata": {
    "vscode": {
     "languageId": "sql"
    }
   },
   "outputs": [],
   "source": [
    "INSERT INTO mytable\n",
    "VALUES (value_or_expr, another_value_or_expr, …),\n",
    "       (value_or_expr_2, another_value_or_expr_2, …),\n",
    "       …;"
   ]
  },
  {
   "cell_type": "markdown",
   "metadata": {},
   "source": [
    "Inserir instrução com colunas específicas"
   ]
  },
  {
   "cell_type": "code",
   "execution_count": null,
   "metadata": {
    "vscode": {
     "languageId": "sql"
    }
   },
   "outputs": [],
   "source": [
    "INSERT INTO mytable\n",
    "(column, another_column, …)\n",
    "VALUES (value_or_expr, another_value_or_expr, …),\n",
    "      (value_or_expr_2, another_value_or_expr_2, …),\n",
    "      …;"
   ]
  },
  {
   "cell_type": "markdown",
   "metadata": {},
   "source": [
    "Exemplo de instrução de inserção com expressões"
   ]
  },
  {
   "cell_type": "code",
   "execution_count": null,
   "metadata": {
    "vscode": {
     "languageId": "sql"
    }
   },
   "outputs": [],
   "source": [
    "INSERT INTO boxoffice\n",
    "(movie_id, rating, sales_in_millions)\n",
    "VALUES (1, 9.9, 283742034 / 1000000);"
   ]
  },
  {
   "cell_type": "markdown",
   "metadata": {},
   "source": [
    "Inserir instrução com valores para todas as colunas vindo de outra tabela."
   ]
  },
  {
   "cell_type": "code",
   "execution_count": null,
   "metadata": {
    "vscode": {
     "languageId": "sql"
    }
   },
   "outputs": [],
   "source": [
    "INSERT INTO mytable\n",
    "SELECT *, funcao(coluna)\n",
    "FROM another_table\n",
    "WHERE condicao;"
   ]
  },
  {
   "cell_type": "markdown",
   "metadata": {},
   "source": [
    "##  Atualizando linhas"
   ]
  },
  {
   "cell_type": "code",
   "execution_count": null,
   "metadata": {
    "vscode": {
     "languageId": "sql"
    }
   },
   "outputs": [],
   "source": [
    "UPDATE mytable\n",
    "SET column = value_or_expr, \n",
    "    other_column = another_value_or_expr, \n",
    "    …\n",
    "WHERE condition;"
   ]
  },
  {
   "cell_type": "markdown",
   "metadata": {},
   "source": [
    "A instrução funciona tomando vários pares de coluna/valor e aplicando essas alterações a cada linha que satisfaça a restrição na WHERE cláusula. Deixando de fora acidentalmente a WHERE cláusula faz com que a atualização se aplique a todas as linhas). \n",
    "\n",
    "Uma dica útil é sempre escrever a restrição primeiro e testá-la em uma SELECT consulta para ter certeza de que está atualizando as linhas corretas e só então escrever os pares coluna/valor a serem atualizados.\n",
    "\n",
    "Exemplo:"
   ]
  },
  {
   "cell_type": "code",
   "execution_count": null,
   "metadata": {
    "vscode": {
     "languageId": "sql"
    }
   },
   "outputs": [],
   "source": [
    "UPDATE movies\n",
    "SET title = \"Toy Story 3\", director = \"Lee Unkrich\"\n",
    "WHERE id = 11;"
   ]
  },
  {
   "cell_type": "markdown",
   "metadata": {},
   "source": [
    "## Excluindo linhas"
   ]
  },
  {
   "cell_type": "code",
   "execution_count": null,
   "metadata": {
    "vscode": {
     "languageId": "sql"
    }
   },
   "outputs": [],
   "source": [
    "DELETE FROM mytable\n",
    "WHERE condition;"
   ]
  },
  {
   "cell_type": "code",
   "execution_count": null,
   "metadata": {
    "vscode": {
     "languageId": "sql"
    }
   },
   "outputs": [],
   "source": [
    "DELETE FROM movies\n",
    "where director = \"Andrew Stanton\";"
   ]
  },
  {
   "cell_type": "markdown",
   "metadata": {},
   "source": [
    "## Criando tabelas"
   ]
  },
  {
   "cell_type": "markdown",
   "metadata": {},
   "source": [
    "A estrutura da nova tabela é definida por seu esquema de tabela , que define uma série de colunas. Cada coluna tem um nome, o tipo de dados permitido nessa coluna, uma restrição de tabela opcional nos valores que estão sendo inseridos e um valor padrão opcional."
   ]
  },
  {
   "cell_type": "code",
   "execution_count": null,
   "metadata": {
    "vscode": {
     "languageId": "sql"
    }
   },
   "outputs": [],
   "source": [
    "CREATE TABLE IF NOT EXISTS mytable (\n",
    "    column DataType TableConstraint DEFAULT default_value,\n",
    "    another_column DataType TableConstraint DEFAULT default_value,\n",
    "    …\n",
    ");"
   ]
  },
  {
   "cell_type": "code",
   "execution_count": null,
   "metadata": {
    "vscode": {
     "languageId": "sql"
    }
   },
   "outputs": [],
   "source": [
    "CREATE TABLE movies (\n",
    "    id INTEGER PRIMARY KEY,\n",
    "    title TEXT,\n",
    "    director TEXT,\n",
    "    year INTEGER, \n",
    "    length_minutes INTEGER\n",
    ");"
   ]
  },
  {
   "cell_type": "code",
   "execution_count": null,
   "metadata": {
    "vscode": {
     "languageId": "sql"
    }
   },
   "outputs": [],
   "source": [
    "CREATE TABLE Database (\n",
    "    Name TEXT,\n",
    "    Version FLOAT,\n",
    "    Download_count INTEGER\n",
    ");"
   ]
  },
  {
   "cell_type": "markdown",
   "metadata": {},
   "source": [
    "##  Alterando tabelas"
   ]
  },
  {
   "cell_type": "markdown",
   "metadata": {},
   "source": [
    "### Adicionando colunas"
   ]
  },
  {
   "cell_type": "code",
   "execution_count": null,
   "metadata": {
    "vscode": {
     "languageId": "sql"
    }
   },
   "outputs": [],
   "source": [
    "ALTER TABLE mytable\n",
    "ADD column DataType OptionalTableConstraint \n",
    "    DEFAULT default_value;"
   ]
  },
  {
   "cell_type": "code",
   "execution_count": null,
   "metadata": {
    "vscode": {
     "languageId": "sql"
    }
   },
   "outputs": [],
   "source": [
    "ALTER TABLE Movies\n",
    "  ADD COLUMN Aspect_ratio FLOAT DEFAULT 2.39;\n",
    "\n",
    "ALTER TABLE Movies\n",
    "  ADD COLUMN Language TEXT DEFAULT \"English\";"
   ]
  },
  {
   "cell_type": "markdown",
   "metadata": {},
   "source": [
    "### Removendo colunas"
   ]
  },
  {
   "cell_type": "code",
   "execution_count": null,
   "metadata": {
    "vscode": {
     "languageId": "sql"
    }
   },
   "outputs": [],
   "source": [
    "ALTER TABLE mytable\n",
    "DROP column_to_be_deleted;"
   ]
  },
  {
   "cell_type": "markdown",
   "metadata": {},
   "source": [
    "### Renomeando a tabela"
   ]
  },
  {
   "cell_type": "code",
   "execution_count": null,
   "metadata": {
    "vscode": {
     "languageId": "sql"
    }
   },
   "outputs": [],
   "source": [
    "ALTER TABLE mytable\n",
    "RENAME TO new_table_name;"
   ]
  },
  {
   "cell_type": "markdown",
   "metadata": {},
   "source": [
    "## Eliminando tabelas"
   ]
  },
  {
   "cell_type": "markdown",
   "metadata": {},
   "source": [
    "Difere da DELETEinstrução, pois também remove o esquema da tabela do banco de dados completamente."
   ]
  },
  {
   "cell_type": "code",
   "execution_count": null,
   "metadata": {
    "vscode": {
     "languageId": "sql"
    }
   },
   "outputs": [],
   "source": [
    "DROP TABLE IF EXISTS mytable;"
   ]
  }
 ],
 "metadata": {
  "kernelspec": {
   "display_name": "Python 3.8.10 64-bit",
   "language": "python",
   "name": "python3"
  },
  "language_info": {
   "name": "python",
   "version": "3.8.10"
  },
  "orig_nbformat": 4,
  "vscode": {
   "interpreter": {
    "hash": "916dbcbb3f70747c44a77c7bcd40155683ae19c65e1c03b4aa3499c5328201f1"
   }
  }
 },
 "nbformat": 4,
 "nbformat_minor": 2
}
