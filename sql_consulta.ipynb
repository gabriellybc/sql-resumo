{
 "cells": [
  {
   "cell_type": "markdown",
   "metadata": {},
   "source": [
    "# SQL"
   ]
  },
  {
   "cell_type": "code",
   "execution_count": null,
   "metadata": {
    "vscode": {
     "languageId": "sql"
    }
   },
   "outputs": [],
   "source": [
    "SELECT DISTINCT column, AGG_FUNC(column_or_expression), … AS expr_description, ...\n",
    "FROM a_long_widgets_table_name AS mywidgets\n",
    "    INNER/LEFT/RIGHT/FULL/CROSS JOIN another_table\n",
    "      ON mytable.column = another_table.column\n",
    "    WHERE (ABS(column) * 10.0 > 500) IS/IS NOT NULL\n",
    "      AND/OR another_condition\n",
    "      AND/OR …\n",
    "    GROUP BY column\n",
    "    HAVING constraint_expression\n",
    "    ORDER BY column, ... ASC/DESC\n",
    "    LIMIT num_limit OFFSET num_offset;"
   ]
  },
  {
   "cell_type": "code",
   "execution_count": null,
   "metadata": {
    "vscode": {
     "languageId": "sql"
    }
   },
   "outputs": [],
   "source": [
    "SELECT titulo, resumo, postagem, nome, comentario\n",
    "FROM postagens\n",
    "  INNER JOIN conteudo ON postagens.id = conteudo.postagensId\n",
    "  INNER JOIN comentarios ON postagens.id = comentarios.postagensId"
   ]
  },
  {
   "cell_type": "markdown",
   "metadata": {},
   "source": [
    "## Ordem de execução da consulta"
   ]
  },
  {
   "cell_type": "markdown",
   "metadata": {},
   "source": [
    "### 1. FROM e JOINs\n",
    "\n",
    "A FROM cláusula e os JOINs subsequentes são executados primeiro para determinar o conjunto de trabalho total de dados que está sendo consultado. Isso inclui subconsultas nesta cláusula e pode fazer com que tabelas temporárias sejam criadas sob o capô contendo todas as colunas e linhas das tabelas que estão sendo unidas."
   ]
  },
  {
   "cell_type": "markdown",
   "metadata": {},
   "source": [
    "### 2. WHERE\n",
    "\n",
    "Uma vez que tenhamos o conjunto de dados de trabalho total, as WHERE restrições de primeira passagem são aplicadas às linhas individuais e as linhas que não satisfazem a restrição são descartadas. Cada uma das restrições só pode acessar colunas diretamente das tabelas solicitadas na FROM cláusula. Os aliases na SELECT parte da consulta não são acessíveis na maioria dos bancos de dados, pois podem incluir expressões dependentes de partes da consulta que ainda não foram executadas.\n",
    "\n",
    "#### Valores numéricos\n",
    "| Operador | Condição | Exemplo SQL | \n",
    "| --- | --- | --- |\n",
    "| =, !=, < <=, >, >= | Operadores numéricos padrão | \tcol_name != 4 |\n",
    "| BETWEEN … AND … | O número está dentro do intervalo de dois valores (inclusive) | col_name BETWEEN 1.5 AND 10.5 |\n",
    "| NOT BETWEEN … AND … | O número não está dentro do intervalo de dois valores (inclusive) | col_name NOT BETWEEN 1 AND 10 |\n",
    "| IN (…) | O número existe em uma lista | col_name IN (2, 4, 6) |\n",
    "| NOT IN (…) | O número não existe em uma lista | col_name NOT IN (1, 3, 5) |\n",
    "\n",
    "#### Strings\n",
    "| Operador | Condição | Exemplo SQL | \n",
    "| --- | --- | --- |\n",
    "| = | \tComparação de string exata sensível a maiúsculas e minúsculas ( observe os iguais únicos ) | col_name = \"abc\" |\n",
    "| != or <> | \tComparação de desigualdade de string exata sensível a maiúsculas e minúsculas | col_name != \"abcd\" |\n",
    "| LIKE | \tComparação exata de strings sem distinção entre maiúsculas e minúsculas | col_name LIKE \"ABC\" |\n",
    "| NOT LIKE | Comparação de desigualdade de string exata sem distinção entre maiúsculas e minúsculas | col_name NOT LIKE \"ABCD\" |\n",
    "| % | Usado em qualquer lugar em uma string para corresponder a uma sequência de zero ou mais caracteres (somente com LIKE ou NOT LIKE) | col_name LIKE \"%AT%\"(matches \"AT\", \"ATTIC\", \"CAT\" or even \"BATS\") |\n",
    "| _ | Usado em qualquer lugar em uma string para corresponder a um único caractere (somente com LIKE ou NOT LIKE) | col_name LIKE \"AN_\" (matches \"AND\", but not \"AN\") |\n",
    "| IN (…) | A string existe em uma lista | col_name IN (\"A\", \"B\", \"C\") |\n",
    "| NOT IN (…) | A string não existe em uma lista | \tcol_name NOT IN (\"D\", \"E\", \"F\")\n"
   ]
  },
  {
   "cell_type": "markdown",
   "metadata": {},
   "source": [
    "### 3. GROUP BY\n",
    "\n",
    "As linhas restantes após a WHERE aplicação das restrições são agrupadas com base em valores comuns na coluna especificada na GROUP BY cláusula. Como resultado do agrupamento, haverá apenas tantas linhas quantos forem os valores exclusivos nessa coluna. Implicitamente, isso significa que você só precisa usar isso quando tiver funções agregadas em sua consulta."
   ]
  },
  {
   "cell_type": "markdown",
   "metadata": {},
   "source": [
    "### 4. HAVING\n",
    "\n",
    "Se a consulta tiver uma GROUP BY cláusula, as restrições na HAVING cláusula serão aplicadas às linhas agrupadas, descarte as linhas agrupadas que não atendem à restrição. Assim como a WHERE cláusula, os aliases também não podem ser acessados ​​nesta etapa na maioria dos bancos de dados."
   ]
  },
  {
   "cell_type": "markdown",
   "metadata": {},
   "source": [
    "### 5. SELECT\n",
    "\n",
    "Quaisquer expressões na SELECTparte da consulta são finalmente computadas.\n",
    "\n",
    "#### \n",
    "| Função | Descrição |\n",
    "| --- | --- |\n",
    "| COUNT(*), COUNT(column) | Uma função comum usada para contar o número de linhas no grupo se nenhum nome de coluna for especificado. Caso contrário, conte o número de linhas no grupo com valores não NULL na coluna especificada. |\n",
    "| MIN(column) | Localiza o menor valor numérico na coluna especificada para todas as linhas do grupo. |\n",
    "| MAX(column) | Localiza o maior valor numérico na coluna especificada para todas as linhas do grupo. |\n",
    "| AVG(column) | Localiza o valor numérico médio na coluna especificada para todas as linhas do grupo. |\n",
    "| SUM(column) | Localiza a soma de todos os valores numéricos na coluna especificada para as linhas do grupo. |"
   ]
  },
  {
   "cell_type": "markdown",
   "metadata": {},
   "source": [
    "### 6. DISTINCT\n",
    "\n",
    "Das linhas restantes, as linhas com valores duplicados na coluna marcada como DISTINCT serão descartadas."
   ]
  },
  {
   "cell_type": "markdown",
   "metadata": {},
   "source": [
    "### 7. ORDER BY\n",
    "\n",
    "Se uma ordem for especificada pela ORDER BY cláusula, as linhas serão classificadas pelos dados especificados em ordem crescente ou decrescente. Como todas as expressões na SELECT parte da consulta foram calculadas, você pode fazer referência a aliases nesta cláusula."
   ]
  },
  {
   "cell_type": "markdown",
   "metadata": {},
   "source": [
    "### 8. LIMIT/OFFSET\n",
    "\n",
    "Por fim, as linhas que estão fora do intervalo especificado por LIMITe OFFSET são descartadas, deixando o conjunto final de linhas a ser retornado da consulta."
   ]
  }
 ],
 "metadata": {
  "interpreter": {
   "hash": "916dbcbb3f70747c44a77c7bcd40155683ae19c65e1c03b4aa3499c5328201f1"
  },
  "kernelspec": {
   "display_name": "Python 3.8.10 64-bit",
   "language": "python",
   "name": "python3"
  },
  "language_info": {
   "codemirror_mode": {
    "name": "ipython",
    "version": 3
   },
   "file_extension": ".py",
   "mimetype": "text/x-python",
   "name": "python",
   "nbconvert_exporter": "python",
   "pygments_lexer": "ipython3",
   "version": "3.8.10"
  },
  "orig_nbformat": 4
 },
 "nbformat": 4,
 "nbformat_minor": 2
}
